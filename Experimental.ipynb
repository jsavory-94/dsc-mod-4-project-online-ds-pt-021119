{
 "cells": [
  {
   "cell_type": "code",
   "execution_count": null,
   "metadata": {},
   "outputs": [],
   "source": [
    "def fit_model(df, zipcode, show_graph=True):    \n",
    "    # Get only the values from the dataframe\n",
    "    vals = df.price.values\n",
    "    # Split the data into training and testing sets by holding out dates past a certain point. Below, we use index 261 for\n",
    "    # this split\n",
    "    train = vals[:261]\n",
    "    test = vals[261:]\n",
    "    # Use a list comprehension to create a \"history\" list using our training data values\n",
    "    history = [i for i in train]\n",
    "    # initialize an empty list for predictions\n",
    "    preds = []\n",
    "    # loop through a list the length of our training set\n",
    "    \n",
    "    #i=0\n",
    "    for i in range(len(test)):\n",
    "        print(i)\n",
    "        \n",
    "fit_model(rolling_zip_57110_df, '57110')"
   ]
  }
 ],
 "metadata": {
  "kernelspec": {
   "display_name": "Python 3",
   "language": "python",
   "name": "python3"
  },
  "language_info": {
   "codemirror_mode": {
    "name": "ipython",
    "version": 3
   },
   "file_extension": ".py",
   "mimetype": "text/x-python",
   "name": "python",
   "nbconvert_exporter": "python",
   "pygments_lexer": "ipython3",
   "version": "3.6.5"
  }
 },
 "nbformat": 4,
 "nbformat_minor": 2
}
